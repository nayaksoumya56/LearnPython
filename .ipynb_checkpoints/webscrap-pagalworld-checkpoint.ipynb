{
 "cells": [
  {
   "cell_type": "code",
   "execution_count": 1,
   "metadata": {},
   "outputs": [],
   "source": [
    "import requests\n",
    "from bs4 import BeautifulSoup\n",
    "from tqdm import tqdm\n",
    "r=requests.get(\"https://pagalworld.org/\")\n",
    "soup=BeautifulSoup(r.content, \"html.parser\")"
   ]
  },
  {
   "cell_type": "code",
   "execution_count": 2,
   "metadata": {},
   "outputs": [],
   "source": [
    "chunk_size=1024\n",
    "latestupdates = soup.find_all(\"li\",{\"class\":\"tnned\"})"
   ]
  },
  {
   "cell_type": "code",
   "execution_count": 3,
   "metadata": {},
   "outputs": [
    {
     "name": "stdout",
     "output_type": "stream",
     "text": [
      "LATEST UPDATES\n",
      "-----------------\n",
      "0\tBheegi Bheegi Raaton Mein - SANAM\n",
      "1\tTunu Tunu - Yamla Pagla Dewana Phir Se\n",
      "2\tTera Hua - Loveratri\n",
      "3\tMitron (2018) Full Album\n",
      "4\tRahguzar - Bhuvan Bam\n",
      "5\tHard Hard - Batti Gul Meter Chalu\n",
      "6\tRaati Saanu - Gajendra Verma\n",
      "7\tChalte Chalte - Mitron\n",
      "8\tMaine Peeli - Romee Khan\n",
      "9\tReady To Move - Armaan Malik\n",
      "10\tRafta Rafta Medley - Salman Khan\n",
      "11\tAao Kabhi Haveli Pe - Stree\n",
      "12\tKala Jora - Badshah\n",
      "13\tSawarne Lage - Mitron\n",
      "14\tAkh Lad Jave - Loveratri\n",
      "15\tKundli - Manmarziyaan\n",
      "16\tStree (2018) Full Album\n",
      "17\tDekhte Dekhte - Atif Aslam\n",
      "18\tTip Tip Barsa Pani - Badshah\n",
      "19\tRang De - Rahat Fateh Ali Khan\n",
      "20\tLaila Majnu (2018) Full Album\n",
      "21\tKalesh - Millind Gaba & Mika\n",
      "22\tONE - Badshah (2018) Full Album\n",
      "23\tThis Party Is Over Now - Mitron\n",
      "24\tGold Tamba - Batti Gul Meter Chalu\n",
      "25\tChogada - Loveratri\n",
      "26\tGenius (2018) Full Album\n",
      "27\tBam Bam Bhole - Superhit EDM Song\n",
      "28\tMade In India - Guru Randhawa\n",
      "29\tSatyameva Jayate (2018) Full Album\n"
     ]
    }
   ],
   "source": [
    "print(\"LATEST UPDATES\\n-----------------\")\n",
    "for c,albums in enumerate(latestupdates):\n",
    "    print(c,albums.find(\"h3\").text,sep=\"\\t\")"
   ]
  },
  {
   "cell_type": "code",
   "execution_count": 4,
   "metadata": {},
   "outputs": [
    {
     "name": "stdout",
     "output_type": "stream",
     "text": [
      "Enter the number of album  : 1\n",
      "You Have chosen : 1 Tunu Tunu - Yamla Pagla Dewana Phir Se\n"
     ]
    }
   ],
   "source": [
    "ch = int(input(\"Enter the number of album  : \"))\n",
    "print(\"You Have chosen : {} {}\".format(ch, latestupdates[ch].find(\"h3\").text))"
   ]
  },
  {
   "cell_type": "code",
   "execution_count": 5,
   "metadata": {},
   "outputs": [],
   "source": [
    "dlpage=requests.get(latestupdates[ch].find(\"a\")[\"href\"])\n",
    "soupdl=BeautifulSoup(dlpage.content, \"html.parser\")"
   ]
  },
  {
   "cell_type": "code",
   "execution_count": 6,
   "metadata": {},
   "outputs": [
    {
     "name": "stdout",
     "output_type": "stream",
     "text": [
      "Tunu Tunu - Yamla Pagla Dewana Phir Se\n",
      "----------------\n"
     ]
    }
   ],
   "source": [
    "print(latestupdates[ch].find(\"h3\").text+\"\\n----------------\")\n",
    "ziplinks = soupdl.find_all(\"a\",{\"class\":\"dbutton\"})\n",
    "songlinks = soupdl.find_all(\"div\",{\"class\":\"listbox\"})"
   ]
  },
  {
   "cell_type": "code",
   "execution_count": 15,
   "metadata": {},
   "outputs": [
    {
     "name": "stdout",
     "output_type": "stream",
     "text": [
      "0\t\n",
      "Download 320 KBPS MP3\n",
      "Size 7.68 MB\n",
      "\n",
      "1\t\n",
      "Download 190 KBPS\n",
      "Size 3.93 MB\n",
      "\n",
      "Select a file to download : 1\n",
      "Enter Directory : E:\\Downloads\n"
     ]
    },
    {
     "data": {
      "text/plain": [
       "<a class=\"dbutton\" href=\"https://pagalworld3.net/14424/variation/190K/04 Tunu Tunu - Yamla Pagla Dewana Phir Se.mp3\" rel=\"nofollow\" title=\"Download 04 Tunu Tunu - Yamla Pagla Dewana Phir Se\"><i class=\"fa fa-download\"></i>\n",
       "<span>\n",
       "<span>Download 190 KBPS</span>\n",
       "<span>Size 3.93 MB</span>\n",
       "</span>\n",
       "</a>"
      ]
     },
     "execution_count": 15,
     "metadata": {},
     "output_type": "execute_result"
    }
   ],
   "source": [
    "c=0\n",
    "for zipfile in ziplinks:\n",
    "    print(c,zipfile.find(\"span\").text,sep=\"\\t\")\n",
    "    c+=1\n",
    "for songfile in songlinks:\n",
    "    print(c,songfile.find(\"h2\").text,sep=\"\\t\")\n",
    "    c+=1\n",
    "ch=int(input(\"Select a file to download : \"))\n",
    "location= input(\"Enter Directory : \")"
   ]
  },
  {
   "cell_type": "code",
   "execution_count": 16,
   "metadata": {},
   "outputs": [
    {
     "name": "stderr",
     "output_type": "stream",
     "text": [
      "3838KB [00:00, 69606.73KB/s]                                                                                           \n"
     ]
    },
    {
     "name": "stdout",
     "output_type": "stream",
     "text": [
      "Download Complete!\n"
     ]
    }
   ],
   "source": [
    "if(ch==0 or ch==1):\n",
    "    url=str(ziplinks[ch][\"href\"])\n",
    "    r=requests.get(url)\n",
    "    r.headers['Content-Length']\n",
    "    size=int(r.headers['Content-Length'])\n",
    "    filename = location+str(ziplinks[ch][\"title\"])+\".zip\"\n",
    "    with open(filename,'wb') as f:\n",
    "        for data in tqdm(iterable = r.iter_content(chunk_size=chunk_size), total = size/chunk_size , unit = 'KB'):\n",
    "            f.write(data)\n",
    "    print(\"Download Complete!\")"
   ]
  },
  {
   "cell_type": "code",
   "execution_count": 18,
   "metadata": {},
   "outputs": [
    {
     "name": "stdout",
     "output_type": "stream",
     "text": [
      "0\t\n",
      "Download 320 KBPS MP3\n",
      "Size 7.52 MB\n",
      "\n",
      "1\t\n",
      "Download 190 KBPS\n",
      "Size 4.23 MB\n",
      "\n",
      "Choose a file : 1\n",
      "Enter Direcotory : E:\\Downloads\n"
     ]
    }
   ],
   "source": [
    "if(ch in range(2,c)):\n",
    "    songdlpage=requests.get(\"https://pagalworld.org\"+songlinks[(ch-2)].find(\"a\")[\"href\"])\n",
    "    soupdl =BeautifulSoup(songdlpage.content,\"html.parser\")\n",
    "    songdllinks=soupdl.find_all(\"a\",{\"class\":\"dbutton\"})\n",
    "    for c,link in enumerate(songdllinks):\n",
    "        print(c,link.find(\"span\").text,sep=\"\\t\")\n",
    "    ch=int(input(\"Choose a file : \"))\n",
    "    location= input(\"Enter Direcotory : \")\n",
    "    with open(location+\"\\\\\"+str(songdllinks[ch][\"title\"])+\".mp3\",'wb') as f:\n",
    "        obj = requests.get(songdllinks[ch][\"href\"])\n",
    "        f.write(obj.content)"
   ]
  },
  {
   "cell_type": "code",
   "execution_count": null,
   "metadata": {},
   "outputs": [],
   "source": []
  }
 ],
 "metadata": {
  "kernelspec": {
   "display_name": "Python 3",
   "language": "python",
   "name": "python3"
  },
  "language_info": {
   "codemirror_mode": {
    "name": "ipython",
    "version": 3
   },
   "file_extension": ".py",
   "mimetype": "text/x-python",
   "name": "python",
   "nbconvert_exporter": "python",
   "pygments_lexer": "ipython3",
   "version": "3.6.5"
  }
 },
 "nbformat": 4,
 "nbformat_minor": 2
}

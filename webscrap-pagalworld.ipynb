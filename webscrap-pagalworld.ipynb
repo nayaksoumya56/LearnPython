{
 "cells": [
  {
   "cell_type": "code",
   "execution_count": 27,
   "metadata": {},
   "outputs": [],
   "source": [
    "import requests\n",
    "import re\n",
    "from bs4 import BeautifulSoup\n",
    "from tqdm import tqdm\n",
    "r=requests.get(\"https://pagalworld.org/\")\n",
    "soup=BeautifulSoup(r.content, \"html.parser\")"
   ]
  },
  {
   "cell_type": "code",
   "execution_count": 51,
   "metadata": {},
   "outputs": [
    {
     "name": "stdout",
     "output_type": "stream",
     "text": [
      "Enter Search : sanam\n"
     ]
    }
   ],
   "source": [
    "chunk_size=1024\n",
    "q=input(\"Enter Search : \")\n",
    "r=requests.get(\"https://www.google.com/search?q=\"+q+\"+site%3Apagalworld.org\")\n",
    "soup = BeautifulSoup(r.content,\"html.parser\")\n",
    "res = soup.find_all(\"h3\",{\"class\":\"r\"})\n",
    "raw_links=[]\n",
    "links=[]\n",
    "for i in res:\n",
    "    raw_links.append(i.find(\"a\")[\"href\"])\n",
    "qresnames=[]"
   ]
  },
  {
   "cell_type": "code",
   "execution_count": 59,
   "metadata": {},
   "outputs": [
    {
     "name": "stdout",
     "output_type": "stream",
     "text": [
      "searching ----\n",
      "\n",
      "0\tBheegi Bheegi Raaton Mein - Sanam mp3 song Download PagalWorld.com\n",
      "1\tSANAM - All Mp3 Songs\n",
      "2\tGulabi Aankhen - SANAM mp3 song Download PagalWorld.com\n",
      "3\tSanam Mere Sanam - Arjun Kanungo n Mithoon 190kbps mp3 song Download PagalWorld.com\n",
      "4\tSanam Re (2016) Mp3 Songs\n",
      "5\t13 Lag Jaa Gale - SANAM mp3 song Download PagalWorld.com\n",
      "6\tSanam Mennu - Sanam Band\n",
      "7\tBulleya - Sanam 320Kbps mp3 song Download PagalWorld.com\n",
      "8\tBheegi Bheegi Raaton Mein - Sanam Puri\n",
      "9\tBheegi Bheegi Raaton Mein - Sanam mp3 song Download PagalWorld.com\n",
      "10\tSANAM - All Mp3 Songs\n",
      "11\tGulabi Aankhen - SANAM mp3 song Download PagalWorld.com\n",
      "12\tSanam Mere Sanam - Arjun Kanungo n Mithoon 190kbps mp3 song Download PagalWorld.com\n",
      "13\tSanam Re (2016) Mp3 Songs\n",
      "14\t13 Lag Jaa Gale - SANAM mp3 song Download PagalWorld.com\n",
      "15\tSanam Mennu - Sanam Band\n",
      "16\tBulleya - Sanam 320Kbps mp3 song Download PagalWorld.com\n",
      "17\tBheegi Bheegi Raaton Mein - Sanam Puri\n",
      "18\tBheegi Bheegi Raaton Mein - Sanam mp3 song Download PagalWorld.com\n",
      "19\tSANAM - All Mp3 Songs\n",
      "20\tGulabi Aankhen - SANAM mp3 song Download PagalWorld.com\n",
      "21\tSanam Mere Sanam - Arjun Kanungo n Mithoon 190kbps mp3 song Download PagalWorld.com\n",
      "22\tSanam Re (2016) Mp3 Songs\n",
      "23\t13 Lag Jaa Gale - SANAM mp3 song Download PagalWorld.com\n",
      "24\tSanam Mennu - Sanam Band\n",
      "25\tBulleya - Sanam 320Kbps mp3 song Download PagalWorld.com\n",
      "26\tBheegi Bheegi Raaton Mein - Sanam Puri\n"
     ]
    }
   ],
   "source": [
    "print(\"searching ----\\n\")\n",
    "for i in raw_links[1:]:\n",
    "    links.append(\"https://\"+re.search(r'https://(.*)(?<=.html)',i).group(1))\n",
    "    qresult=requests.get(\"https://\"+re.search(r'https://(.*)(?<=.html)',i).group(1))\n",
    "    soup = BeautifulSoup(qresult.content,\"html.parser\")\n",
    "    qresnames.append(soup.find(\"h1\",{\"class\":\"title\"}).text)\n",
    "for c,i in enumerate(qresnames):\n",
    "    print(c,i,sep=\"\\t\")"
   ]
  },
  {
   "cell_type": "code",
   "execution_count": 60,
   "metadata": {},
   "outputs": [
    {
     "name": "stdout",
     "output_type": "stream",
     "text": [
      "Enter the number of album  : 4\n",
      "You Have chosen : Sanam Re (2016) Mp3 Songs\n",
      "files.html\n"
     ]
    }
   ],
   "source": [
    "ch = int(input(\"Enter the number of album  : \"))\n",
    "print(\"You Have chosen : {}\".format(qresnames[ch]))\n",
    "dltype = links[ch].split(\"/\")[-1]"
   ]
  },
  {
   "cell_type": "code",
   "execution_count": 20,
   "metadata": {},
   "outputs": [
    {
     "name": "stdout",
     "output_type": "stream",
     "text": [
      "Enter the number of album  : 29\n",
      "You Have chosen : 29 Satyameva Jayate (2018) Full Album\n"
     ]
    }
   ],
   "source": []
  },
  {
   "cell_type": "code",
   "execution_count": 21,
   "metadata": {},
   "outputs": [],
   "source": [
    "dlpage=requests.get(latestupdates[ch].find(\"a\")[\"href\"])\n",
    "soupdl=BeautifulSoup(dlpage.content, \"html.parser\")"
   ]
  },
  {
   "cell_type": "code",
   "execution_count": 22,
   "metadata": {},
   "outputs": [
    {
     "name": "stdout",
     "output_type": "stream",
     "text": [
      "Satyameva Jayate (2018) Full Album\n",
      "----------------\n"
     ]
    }
   ],
   "source": [
    "print(latestupdates[ch].find(\"h3\").text+\"\\n----------------\")\n",
    "ziplinks = soupdl.find_all(\"a\",{\"class\":\"dbutton\"})\n",
    "songlinks = soupdl.find_all(\"div\",{\"class\":\"listbox\"})"
   ]
  },
  {
   "cell_type": "code",
   "execution_count": 23,
   "metadata": {},
   "outputs": [
    {
     "name": "stdout",
     "output_type": "stream",
     "text": [
      "0\t\n",
      "Download ZIP Orginal\n",
      "Size 55.36 MB\n",
      "\n",
      "1\t\n",
      "Download ZIP 190 KBPS\n",
      "Size 33.19 MB\n",
      "\n",
      "2\t01 Dilbar - Satyameva Jayate\n",
      "3\t02 Paniyon Sa - Satyameva Jayate\n",
      "4\t03 Tajdar E Haram - Satyameva Jayate\n",
      "5\t04 Tere Jaisa - Satyameva Jayate\n",
      "6\tDilbar Dilbar - Sirf Tum - Old 320Kbps\n",
      "7\tDilbar - Satyameva Jayate 320Kbps\n",
      "Select a file to download : 2\n",
      "Enter Directory : E:\\Downloads\n"
     ]
    }
   ],
   "source": [
    "c=0\n",
    "for zipfile in ziplinks:\n",
    "    print(c,zipfile.find(\"span\").text,sep=\"\\t\")\n",
    "    c+=1\n",
    "for songfile in songlinks:\n",
    "    print(c,songfile.find(\"h2\").text,sep=\"\\t\")\n",
    "    c+=1\n",
    "ch=int(input(\"Select a file to download : \"))\n",
    "location= input(\"Enter Directory : \")"
   ]
  },
  {
   "cell_type": "code",
   "execution_count": 24,
   "metadata": {},
   "outputs": [],
   "source": [
    "if(ch==0 or ch==1):\n",
    "    url=str(ziplinks[ch][\"href\"])\n",
    "    r=requests.get(url,stream=True)\n",
    "    r.headers['Content-Length']\n",
    "    size=int(r.headers['Content-Length'])\n",
    "    filename = location+\"\\\\\"+str(ziplinks[ch][\"href\"]).split('/')[-1]\n",
    "    with open(filename,'wb') as f:\n",
    "        for data in tqdm(iterable = r.iter_content(chunk_size=chunk_size), total = size/chunk_size , unit = 'KB'):\n",
    "            f.write(data)\n",
    "    print(\"Download Complete!\")"
   ]
  },
  {
   "cell_type": "code",
   "execution_count": 25,
   "metadata": {},
   "outputs": [
    {
     "name": "stdout",
     "output_type": "stream",
     "text": [
      "0\t\n",
      "Download 320 KBPS MP3\n",
      "Size 7.52 MB\n",
      "\n",
      "1\t\n",
      "Download 190 KBPS\n",
      "Size 4.23 MB\n",
      "\n",
      "Choose a file : 1\n"
     ]
    },
    {
     "name": "stderr",
     "output_type": "stream",
     "text": [
      "4127KB [00:02, 1634.73KB/s]                                                                                            \n"
     ]
    },
    {
     "name": "stdout",
     "output_type": "stream",
     "text": [
      "Download Complete!\n"
     ]
    }
   ],
   "source": [
    "if(ch in range(2,c)):\n",
    "    songdlpage=requests.get(\"https://pagalworld.org\"+songlinks[(ch-2)].find(\"a\")[\"href\"])\n",
    "    soupdl =BeautifulSoup(songdlpage.content,\"html.parser\")\n",
    "    songdllinks=soupdl.find_all(\"a\",{\"class\":\"dbutton\"})\n",
    "    for c,link in enumerate(songdllinks):\n",
    "        print(c,link.find(\"span\").text,sep=\"\\t\")\n",
    "    ch=int(input(\"Choose a file : \"))\n",
    "    url=str(songdllinks[ch][\"href\"])\n",
    "    r=requests.get(url,stream=True)\n",
    "    r.headers['Content-Length']\n",
    "    size=int(r.headers['Content-Length'])\n",
    "    filename = location+\"\\\\\"+str(songdllinks[ch][\"href\"]).split('/')[-1]\n",
    "    with open(filename,'wb') as f:\n",
    "        for data in tqdm(iterable = r.iter_content(chunk_size=chunk_size), total = size/chunk_size , unit = 'KB'):\n",
    "            f.write(data)\n",
    "    print(\"Download Complete!\")"
   ]
  },
  {
   "cell_type": "code",
   "execution_count": null,
   "metadata": {},
   "outputs": [],
   "source": []
  }
 ],
 "metadata": {
  "kernelspec": {
   "display_name": "Python 3",
   "language": "python",
   "name": "python3"
  },
  "language_info": {
   "codemirror_mode": {
    "name": "ipython",
    "version": 3
   },
   "file_extension": ".py",
   "mimetype": "text/x-python",
   "name": "python",
   "nbconvert_exporter": "python",
   "pygments_lexer": "ipython3",
   "version": "3.6.5"
  }
 },
 "nbformat": 4,
 "nbformat_minor": 2
}

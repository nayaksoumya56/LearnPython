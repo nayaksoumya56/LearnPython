{
 "cells": [
  {
   "cell_type": "code",
   "execution_count": 1,
   "metadata": {},
   "outputs": [],
   "source": [
    "import requests\n",
    "import re\n",
    "from bs4 import BeautifulSoup\n",
    "from tqdm import tqdm\n",
    "import urllib"
   ]
  },
  {
   "cell_type": "code",
   "execution_count": 16,
   "metadata": {},
   "outputs": [
    {
     "name": "stdout",
     "output_type": "stream",
     "text": [
      "----------pagalworld.org-webscraper---------\n",
      "\n",
      "Enter Download Location : \n",
      "Enter Search : sanam re\n",
      "https://www.google.com/search?q=sanam+re+site%3Apagalworld.org\n"
     ]
    }
   ],
   "source": [
    "chunk_size=1024\n",
    "print(\"----------pagalworld.org-webscraper---------\")\n",
    "location=input(\"\\nEnter Download Location : \")\n",
    "q=input(\"Enter Search : \")+\" site:pagalworld.org\"\n",
    "url = \"https://www.google.com/search?q=\"+urllib.parse.quote_plus(q)\n",
    "print(url)\n"
   ]
  },
  {
   "cell_type": "code",
   "execution_count": 17,
   "metadata": {},
   "outputs": [],
   "source": [
    "r=requests.get(url)\n",
    "soup = BeautifulSoup(r.content,\"html.parser\")\n",
    "res = soup.find_all(\"h3\",{\"class\":\"r\"})\n",
    "raw_links=[]\n",
    "links=[]\n",
    "for i in res:\n",
    "    raw_links.append(i.find(\"a\")[\"href\"])\n",
    "qresnames=[]"
   ]
  },
  {
   "cell_type": "code",
   "execution_count": 18,
   "metadata": {},
   "outputs": [],
   "source": [
    "def downloadfile(url):\n",
    "    songdlpage=requests.get(url)\n",
    "    soupdl =BeautifulSoup(songdlpage.content,\"html.parser\")\n",
    "    songdllinks=soupdl.find_all(\"a\",{\"class\":\"dbutton\"})\n",
    "    for c,link in enumerate(songdllinks):\n",
    "        print(c,link.find(\"span\").text,sep=\"\\t\")\n",
    "    ch=int(input(\"Choose a file : \"))\n",
    "    url=str(songdllinks[ch][\"href\"])\n",
    "    r=requests.get(url,stream=True)\n",
    "    r.headers['Content-Length']\n",
    "    size=int(r.headers['Content-Length'])\n",
    "    filename = location+\"\\\\\"+str(songdllinks[ch][\"href\"]).split('/')[-1]\n",
    "    with open(filename,'wb') as f:\n",
    "        for data in tqdm(iterable = r.iter_content(chunk_size=chunk_size), total = size/chunk_size , unit = 'KB'):\n",
    "            f.write(data)\n",
    "    print(\"Download Complete!\")"
   ]
  },
  {
   "cell_type": "code",
   "execution_count": 19,
   "metadata": {},
   "outputs": [],
   "source": [
    "def fileshtml(url):\n",
    "    soup = BeautifulSoup(requests.get(url).content,\"html.parser\")\n",
    "    res=soup.find_all(\"div\",{\"class\":\"listbox\"})\n",
    "    print(\"\\n----------------\")\n",
    "    print(soup.find(\"h1\",{\"class\":\"title\"}).text)\n",
    "    print(\"----------------\\n\")\n",
    "    c=0\n",
    "    for x,i in enumerate(res):\n",
    "        print(x,i.find(\"h2\").text)\n",
    "        c+=1\n",
    "    ch = input(\"Enter Choice [99:Next 98:Prev] : \")\n",
    "    if(int(ch)==99):\n",
    "        nextlink=soup.find_all(\"li\",{\"class\":\"next\"})\n",
    "        if(str(type(nextlink[0].find(\"span\")))==\"<class 'bs4.element.Tag'>\"):\n",
    "            print(\"\\n---------\\nLast Page\\n---------\")\n",
    "            fileshtml(url)\n",
    "        else:\n",
    "            url = \"https://pagalworld.org\"+nextlink[0].find(\"a\")[\"href\"]\n",
    "            fileshtml(url)\n",
    "    if(int(ch)==98):\n",
    "        prevlink=soup.find_all(\"li\",{\"class\":\"prev\"})\n",
    "        if(str(type(prevlink[0].find(\"span\")))==\"<class 'bs4.element.Tag'>\"):\n",
    "            print(\"\\n---------\\nFirst Page\\n---------\")\n",
    "            fileshtml(url)\n",
    "        else:\n",
    "            url = \"https://pagalworld.org\"+prevlink[0].find(\"a\")[\"href\"]\n",
    "            fileshtml(url)\n",
    "    if(ch in range(0,c)):\n",
    "        url=str(res[ch])"
   ]
  },
  {
   "cell_type": "code",
   "execution_count": 24,
   "metadata": {},
   "outputs": [
    {
     "name": "stdout",
     "output_type": "stream",
     "text": [
      "pagalworld.org/sanam-re-2016-mp3-songs1111/files.html\n",
      "pagalworld.org/01-sanam-re-title-song-arijit-singh-190kbps-3111/download.html\n",
      "pagalworld.org/07-tum-bin-sanam-re-shreya-ghoshal-320kbps-2/download.html\n",
      "pagalworld.org/sanam-re-2016-3gp-video-songs/files.html\n",
      "pagalworld.org/11-kya-tujhe-ab-sad-version-sanam-re-falak-190kbps-2/download.html\n",
      "pagalworld.org/sanam-re-title-song-mp4/download.html\n",
      "pagalworld.org/sanam-re-remix-dj-joel/download.html\n",
      "pagalworld.org/sanam-re-lounge-mix-mithoon-hq/download.html\n",
      "pagalworld.org/sanam-re-lounge-mix-mithoon-mp4/download.html\n"
     ]
    }
   ],
   "source": [
    "for i in raw_links:\n",
    "    try:\n",
    "        print(re.search(r'https://(.*)(?<=.html)',i).group(1))\n",
    "    except AttributeError:\n",
    "        continue"
   ]
  },
  {
   "cell_type": "code",
   "execution_count": null,
   "metadata": {},
   "outputs": [
    {
     "name": "stdout",
     "output_type": "stream",
     "text": [
      "Searching...Please wait!\n",
      "\n",
      "0--Sanam Re (2016) Mp3 Songs\n",
      "2--01 Sanam Re (Title Song) Arijit Singh 190Kbps mp3 song Download PagalWorld.com\n",
      "3--07 Tum Bin - Sanam Re (Shreya Ghoshal) 320Kbps mp3 song Download PagalWorld.com\n",
      "4--Sanam Re (2016) 3gp Video Songs\n",
      "5--11 Kya Tujhe Ab (Sad Version) Sanam Re (Falak) 190Kbps mp3 song Download PagalWorld.com\n",
      "6--SANAM RE Title Song - MP4 mp4 video Download PagalWorld.com\n",
      "7--Sanam Re Remix - Dj Joel mp3 song Download PagalWorld.com\n",
      "8--Sanam Re (Lounge Mix) Mithoon - HQ mp4 video Download PagalWorld.com\n",
      "9--Sanam Re (Lounge Mix) Mithoon - MP4 mp4 video Download PagalWorld.com\n"
     ]
    }
   ],
   "source": [
    "print(\"Searching...Please wait!\\n\")\n",
    "for c,i in enumerate(raw_links):\n",
    "    try:\n",
    "        links.append(\"https://\"+re.search(r'https://(.*)(?<=.html)',i).group(1))\n",
    "        qresult=requests.get(\"https://\"+re.search(r'https://(.*)(?<=.html)',i).group(1))\n",
    "        soup = BeautifulSoup(qresult.content,\"html.parser\")\n",
    "        qresnames.append(soup.find(\"h1\",{\"class\":\"title\"}).text)\n",
    "        print(c,soup.find(\"h1\",{\"class\":\"title\"}).text, sep=\"--\")\n",
    "    except AttributeError:\n",
    "        continue\n",
    "ch = int(input(\"Enter the number of album  : \"))\n",
    "print(\"You Have chosen : {}\".format(qresnames[ch]))"
   ]
  },
  {
   "cell_type": "code",
   "execution_count": 27,
   "metadata": {},
   "outputs": [],
   "source": [
    "dltype = links[ch].split(\"/\")[-1]\n",
    "if(dltype==\"files.html\"):\n",
    "    fileshtml(str(links[ch]))"
   ]
  },
  {
   "cell_type": "code",
   "execution_count": 28,
   "metadata": {},
   "outputs": [
    {
     "name": "stdout",
     "output_type": "stream",
     "text": [
      "0\t\n",
      "Download Original MP3\n",
      "Size 11.46 MB\n",
      "\n",
      "Choose a file : 0\n"
     ]
    },
    {
     "ename": "PermissionError",
     "evalue": "[Errno 13] Permission denied: '\\\\07 Tum Bin - Sanam Re (Shreya Ghoshal) 320Kbps.mp3'",
     "output_type": "error",
     "traceback": [
      "\u001b[1;31m---------------------------------------------------------------------------\u001b[0m",
      "\u001b[1;31mPermissionError\u001b[0m                           Traceback (most recent call last)",
      "\u001b[1;32m<ipython-input-28-6276803fa784>\u001b[0m in \u001b[0;36m<module>\u001b[1;34m()\u001b[0m\n\u001b[0;32m      1\u001b[0m \u001b[1;32mif\u001b[0m\u001b[1;33m(\u001b[0m\u001b[0mdltype\u001b[0m\u001b[1;33m==\u001b[0m\u001b[1;34m\"download.html\"\u001b[0m\u001b[1;33m)\u001b[0m\u001b[1;33m:\u001b[0m\u001b[1;33m\u001b[0m\u001b[0m\n\u001b[1;32m----> 2\u001b[1;33m     \u001b[0mdownloadfile\u001b[0m\u001b[1;33m(\u001b[0m\u001b[0mstr\u001b[0m\u001b[1;33m(\u001b[0m\u001b[0mlinks\u001b[0m\u001b[1;33m[\u001b[0m\u001b[0mch\u001b[0m\u001b[1;33m]\u001b[0m\u001b[1;33m)\u001b[0m\u001b[1;33m)\u001b[0m\u001b[1;33m\u001b[0m\u001b[0m\n\u001b[0m",
      "\u001b[1;32m<ipython-input-18-d8937202594a>\u001b[0m in \u001b[0;36mdownloadfile\u001b[1;34m(url)\u001b[0m\n\u001b[0;32m     11\u001b[0m     \u001b[0msize\u001b[0m\u001b[1;33m=\u001b[0m\u001b[0mint\u001b[0m\u001b[1;33m(\u001b[0m\u001b[0mr\u001b[0m\u001b[1;33m.\u001b[0m\u001b[0mheaders\u001b[0m\u001b[1;33m[\u001b[0m\u001b[1;34m'Content-Length'\u001b[0m\u001b[1;33m]\u001b[0m\u001b[1;33m)\u001b[0m\u001b[1;33m\u001b[0m\u001b[0m\n\u001b[0;32m     12\u001b[0m     \u001b[0mfilename\u001b[0m \u001b[1;33m=\u001b[0m \u001b[0mlocation\u001b[0m\u001b[1;33m+\u001b[0m\u001b[1;34m\"\\\\\"\u001b[0m\u001b[1;33m+\u001b[0m\u001b[0mstr\u001b[0m\u001b[1;33m(\u001b[0m\u001b[0msongdllinks\u001b[0m\u001b[1;33m[\u001b[0m\u001b[0mch\u001b[0m\u001b[1;33m]\u001b[0m\u001b[1;33m[\u001b[0m\u001b[1;34m\"href\"\u001b[0m\u001b[1;33m]\u001b[0m\u001b[1;33m)\u001b[0m\u001b[1;33m.\u001b[0m\u001b[0msplit\u001b[0m\u001b[1;33m(\u001b[0m\u001b[1;34m'/'\u001b[0m\u001b[1;33m)\u001b[0m\u001b[1;33m[\u001b[0m\u001b[1;33m-\u001b[0m\u001b[1;36m1\u001b[0m\u001b[1;33m]\u001b[0m\u001b[1;33m\u001b[0m\u001b[0m\n\u001b[1;32m---> 13\u001b[1;33m     \u001b[1;32mwith\u001b[0m \u001b[0mopen\u001b[0m\u001b[1;33m(\u001b[0m\u001b[0mfilename\u001b[0m\u001b[1;33m,\u001b[0m\u001b[1;34m'wb'\u001b[0m\u001b[1;33m)\u001b[0m \u001b[1;32mas\u001b[0m \u001b[0mf\u001b[0m\u001b[1;33m:\u001b[0m\u001b[1;33m\u001b[0m\u001b[0m\n\u001b[0m\u001b[0;32m     14\u001b[0m         \u001b[1;32mfor\u001b[0m \u001b[0mdata\u001b[0m \u001b[1;32min\u001b[0m \u001b[0mtqdm\u001b[0m\u001b[1;33m(\u001b[0m\u001b[0miterable\u001b[0m \u001b[1;33m=\u001b[0m \u001b[0mr\u001b[0m\u001b[1;33m.\u001b[0m\u001b[0miter_content\u001b[0m\u001b[1;33m(\u001b[0m\u001b[0mchunk_size\u001b[0m\u001b[1;33m=\u001b[0m\u001b[0mchunk_size\u001b[0m\u001b[1;33m)\u001b[0m\u001b[1;33m,\u001b[0m \u001b[0mtotal\u001b[0m \u001b[1;33m=\u001b[0m \u001b[0msize\u001b[0m\u001b[1;33m/\u001b[0m\u001b[0mchunk_size\u001b[0m \u001b[1;33m,\u001b[0m \u001b[0munit\u001b[0m \u001b[1;33m=\u001b[0m \u001b[1;34m'KB'\u001b[0m\u001b[1;33m)\u001b[0m\u001b[1;33m:\u001b[0m\u001b[1;33m\u001b[0m\u001b[0m\n\u001b[0;32m     15\u001b[0m             \u001b[0mf\u001b[0m\u001b[1;33m.\u001b[0m\u001b[0mwrite\u001b[0m\u001b[1;33m(\u001b[0m\u001b[0mdata\u001b[0m\u001b[1;33m)\u001b[0m\u001b[1;33m\u001b[0m\u001b[0m\n",
      "\u001b[1;31mPermissionError\u001b[0m: [Errno 13] Permission denied: '\\\\07 Tum Bin - Sanam Re (Shreya Ghoshal) 320Kbps.mp3'"
     ]
    }
   ],
   "source": [
    "if(dltype==\"download.html\"):\n",
    "    downloadfile(str(links[ch]))"
   ]
  },
  {
   "cell_type": "code",
   "execution_count": null,
   "metadata": {},
   "outputs": [],
   "source": [
    "dlpage=requests.get(str(links[ch]))\n",
    "soupdl=BeautifulSoup(dlpage.content, \"html.parser\")"
   ]
  },
  {
   "cell_type": "code",
   "execution_count": null,
   "metadata": {},
   "outputs": [],
   "source": [
    "print(latestupdates[ch].find(\"h3\").text+\"\\n----------------\")\n",
    "ziplinks = soupdl.find_all(\"a\",{\"class\":\"dbutton\"})\n",
    "songlinks = soupdl.find_all(\"div\",{\"class\":\"listbox\"})"
   ]
  },
  {
   "cell_type": "code",
   "execution_count": null,
   "metadata": {},
   "outputs": [],
   "source": [
    "c=0\n",
    "for zipfile in ziplinks:\n",
    "    print(c,zipfile.find(\"span\").text,sep=\"\\t\")\n",
    "    c+=1\n",
    "for songfile in songlinks:\n",
    "    print(c,songfile.find(\"h2\").text,sep=\"\\t\")\n",
    "    c+=1\n",
    "ch=int(input(\"Select a file to download : \"))\n",
    "location= input(\"Enter Directory : \")"
   ]
  },
  {
   "cell_type": "code",
   "execution_count": null,
   "metadata": {},
   "outputs": [],
   "source": [
    "if(ch==0 or ch==1):\n",
    "    url=str(ziplinks[ch][\"href\"])\n",
    "    r=requests.get(url,stream=True)\n",
    "    r.headers['Content-Length']\n",
    "    size=int(r.headers['Content-Length'])\n",
    "    filename = location+\"\\\\\"+str(ziplinks[ch][\"href\"]).split('/')[-1]\n",
    "    with open(filename,'wb') as f:\n",
    "        for data in tqdm(iterable = r.iter_content(chunk_size=chunk_size), total = size/chunk_size , unit = 'KB'):\n",
    "            f.write(data)\n",
    "    print(\"Download Complete!\")"
   ]
  },
  {
   "cell_type": "code",
   "execution_count": null,
   "metadata": {},
   "outputs": [],
   "source": [
    "if(ch in range(2,c)):\n",
    "    url=\"https://pagalworld.org\"+songlinks[(ch-2)].find(\"a\")[\"href\"]\n",
    "    downloadfile(url)"
   ]
  },
  {
   "cell_type": "code",
   "execution_count": null,
   "metadata": {},
   "outputs": [],
   "source": []
  },
  {
   "cell_type": "code",
   "execution_count": null,
   "metadata": {},
   "outputs": [],
   "source": []
  },
  {
   "cell_type": "code",
   "execution_count": null,
   "metadata": {},
   "outputs": [],
   "source": []
  }
 ],
 "metadata": {
  "kernelspec": {
   "display_name": "Python 3",
   "language": "python",
   "name": "python3"
  },
  "language_info": {
   "codemirror_mode": {
    "name": "ipython",
    "version": 3
   },
   "file_extension": ".py",
   "mimetype": "text/x-python",
   "name": "python",
   "nbconvert_exporter": "python",
   "pygments_lexer": "ipython3",
   "version": "3.7.0"
  }
 },
 "nbformat": 4,
 "nbformat_minor": 2
}

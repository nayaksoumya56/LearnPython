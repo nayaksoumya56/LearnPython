{
 "cells": [
  {
   "cell_type": "code",
   "execution_count": 129,
   "metadata": {},
   "outputs": [],
   "source": [
    "from selenium import webdriver\n",
    "from selenium.webdriver.common.keys import Keys\n",
    "import requests\n",
    "import http.cookiejar as cookielib\n",
    "import time\n",
    "from bs4 import BeautifulSoup"
   ]
  },
  {
   "cell_type": "code",
   "execution_count": 130,
   "metadata": {},
   "outputs": [],
   "source": [
    "url=\"http://kissanime.ru\""
   ]
  },
  {
   "cell_type": "code",
   "execution_count": 131,
   "metadata": {},
   "outputs": [],
   "source": [
    "driver=webdriver.Chrome()\n",
    "driver.get(url)\n",
    "time.sleep(10)\n",
    "cs=driver.get_cookies()\n",
    "driver.close()"
   ]
  },
  {
   "cell_type": "code",
   "execution_count": 132,
   "metadata": {},
   "outputs": [],
   "source": [
    "header={\"User-Agent\": \"Mozilla/5.0 (X11; Linux x86_64) AppleWebKit/537.36 (KHTML, like Gecko) Chrome/69.0.3497.100 Safari/537.36\"}\n",
    "cj=cookielib.CookieJar()\n",
    "for c in cs:\n",
    "    if 'expiry' not in c.keys():continue\n",
    "    ck=cookielib.Cookie(name=c['name'], value=c['value'], domain=c['domain'], path=c['path'],secure=c['secure'], rest=False, version=0,port=None,port_specified=False,domain_specified=False,domain_initial_dot=False,path_specified=True,expires=c['expiry'],discard=True,comment=None,comment_url=None,rfc2109=False)\n",
    "    cj.set_cookie(ck)"
   ]
  },
  {
   "cell_type": "code",
   "execution_count": 133,
   "metadata": {},
   "outputs": [],
   "source": [
    "s=requests.Session()\n",
    "r=s.get(url+\"/Login\",cookies=cj,headers=header)"
   ]
  },
  {
   "cell_type": "code",
   "execution_count": 134,
   "metadata": {},
   "outputs": [
    {
     "name": "stdout",
     "output_type": "stream",
     "text": [
      "200\n"
     ]
    }
   ],
   "source": [
    "print(r.status_code)\n",
    "soup=BeautifulSoup(r.content,\"html.parser\")\n"
   ]
  },
  {
   "cell_type": "code",
   "execution_count": 135,
   "metadata": {},
   "outputs": [
    {
     "data": {
      "text/plain": [
       "200"
      ]
     },
     "execution_count": 135,
     "metadata": {},
     "output_type": "execute_result"
    }
   ],
   "source": [
    "r=s.post(\"http://kissanime.ru/Login\",data={'username':'srn2012','password':'soumya@123'},cookies=cj,headers=header)\n",
    "r.status_code"
   ]
  },
  {
   "cell_type": "code",
   "execution_count": 136,
   "metadata": {},
   "outputs": [
    {
     "data": {
      "text/plain": [
       "200"
      ]
     },
     "execution_count": 136,
     "metadata": {},
     "output_type": "execute_result"
    }
   ],
   "source": [
    "r=s.post(\"http://kissanime.ru/Search/SearchSuggestx\",data={'type':'Anime','keyword':'dragon ball'},cookies=cj,headers=header)\n",
    "r.status_code"
   ]
  },
  {
   "cell_type": "code",
   "execution_count": 137,
   "metadata": {},
   "outputs": [],
   "source": [
    "soup=BeautifulSoup(r.content,\"html.parser\")\n",
    "results=soup.find_all(\"a\")"
   ]
  },
  {
   "cell_type": "code",
   "execution_count": 138,
   "metadata": {},
   "outputs": [],
   "source": [
    "animelink=results[0][\"href\"]"
   ]
  },
  {
   "cell_type": "code",
   "execution_count": 139,
   "metadata": {},
   "outputs": [
    {
     "data": {
      "text/plain": [
       "200"
      ]
     },
     "execution_count": 139,
     "metadata": {},
     "output_type": "execute_result"
    }
   ],
   "source": [
    "r=s.get(animelink,cookies=cj,headers=header)\n",
    "r.status_code"
   ]
  },
  {
   "cell_type": "code",
   "execution_count": 140,
   "metadata": {},
   "outputs": [],
   "source": [
    "soup=BeautifulSoup(r.content,\"html.parser\")\n",
    "episodeTable=soup.find(\"table\",{\"class\":\"listing\"}).find_all(\"td\")\n",
    "links=[]\n",
    "for c,x in enumerate(episodeTable):\n",
    "    if(c%2==0): links.append(x.find(\"a\")[\"href\"])"
   ]
  },
  {
   "cell_type": "code",
   "execution_count": 141,
   "metadata": {},
   "outputs": [
    {
     "data": {
      "text/plain": [
       "200"
      ]
     },
     "execution_count": 141,
     "metadata": {},
     "output_type": "execute_result"
    }
   ],
   "source": [
    "r=s.get(\"http://kissanime.ru\"+links[1]+\"&s=rapidvideo\",cookies=cj,headers=header)\n",
    "r.status_code"
   ]
  },
  {
   "cell_type": "code",
   "execution_count": 143,
   "metadata": {},
   "outputs": [
    {
     "data": {
      "text/plain": [
       "[<a href=\"/Message/ReportError\" rel=\"nofollow\" target=\"_blank\">[Report spoiler]</a>]"
      ]
     },
     "execution_count": 143,
     "metadata": {},
     "output_type": "execute_result"
    }
   ],
   "source": [
    "r.content\n",
    "soup=BeautifulSoup(r.content,\"html.parser\")\n",
    "soup.find_all(\"a\",{\"rel\":\"nofollow\"})"
   ]
  },
  {
   "cell_type": "code",
   "execution_count": null,
   "metadata": {},
   "outputs": [],
   "source": [
    "with open('a.mp4','wb') as file:\n",
    "    r = requests.get(\"https://www3771.playercdn.net/187/0/X-MX46sJQXy8ljO7iMXwVw/1537739993/170509/247uLHROKgabr2y.mp4\",stream=True)\n",
    "    file.write(r.content)"
   ]
  },
  {
   "cell_type": "code",
   "execution_count": null,
   "metadata": {},
   "outputs": [],
   "source": []
  }
 ],
 "metadata": {
  "kernelspec": {
   "display_name": "Python 3",
   "language": "python",
   "name": "python3"
  },
  "language_info": {
   "codemirror_mode": {
    "name": "ipython",
    "version": 3
   },
   "file_extension": ".py",
   "mimetype": "text/x-python",
   "name": "python",
   "nbconvert_exporter": "python",
   "pygments_lexer": "ipython3",
   "version": "3.6.5"
  }
 },
 "nbformat": 4,
 "nbformat_minor": 2
}
